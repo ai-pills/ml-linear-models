{
 "cells": [
  {
   "cell_type": "code",
   "execution_count": 1,
   "metadata": {
    "slideshow": {
     "slide_type": "skip"
    }
   },
   "outputs": [],
   "source": [
    "# ======================================================================================\n",
    "# Notebook setup\n",
    "# \n",
    "# Run this cell before all others to make sure that the Jupyter notebook works properly\n",
    "# ======================================================================================\n",
    "\n",
    "import pandas as pd\n",
    "import numpy as np\n",
    "from matplotlib import pyplot as plt\n",
    "figsize = (14, 4.5)"
   ]
  },
  {
   "cell_type": "markdown",
   "metadata": {
    "slideshow": {
     "slide_type": "subslide"
    }
   },
   "source": [
    "## Overview\n",
    "\n",
    "**This tutorial will focus on _Linear Regression_**\n",
    "\n",
    "We will include some additional topics, including: \n",
    "\n",
    "* Basic formulation of supervised learning\n",
    "* Basic linear regression model\n",
    "* Train/test set split\n",
    "* Evaluation of regression models"
   ]
  },
  {
   "cell_type": "markdown",
   "metadata": {
    "slideshow": {
     "slide_type": "subslide"
    }
   },
   "source": [
    "## Overview\n",
    "\n",
    "**The lecture relies on the the following proficiencies and tools:**\n",
    "\n",
    "* [Python](https://www.python.org/) programming\n",
    "* Vector computations via [the numpy module](https://numpy.org/)\n",
    "* Data handling using [the pandas module](https://pandas.pydata.org/)\n",
    "* Plotting using [matplotlib](https://matplotlib.org/)\n",
    "* Training and using Machine Learning model via [scikit-learn](https://scikit-learn.org/)\n",
    "\n",
    "You will need them only if you plan to handle these tasks yourself"
   ]
  },
  {
   "cell_type": "markdown",
   "metadata": {
    "slideshow": {
     "slide_type": "slide"
    }
   },
   "source": [
    "# Linear Regression"
   ]
  },
  {
   "cell_type": "markdown",
   "metadata": {
    "slideshow": {
     "slide_type": "subslide"
    }
   },
   "source": [
    "## Loading the Data\n",
    "\n",
    "**Let's start by loading the housing dataset again**"
   ]
  },
  {
   "cell_type": "code",
   "execution_count": 3,
   "metadata": {},
   "outputs": [
    {
     "name": "stdout",
     "output_type": "stream",
     "text": [
      "--2022-10-15 17:23:53--  https://github.com/ai-pills/datasets/blob/main/real_estate.csv?raw=True\n",
      "Resolving github.com (github.com)... 140.82.121.3\n",
      "Connecting to github.com (github.com)|140.82.121.3|:443... connected.\n",
      "HTTP request sent, awaiting response... 302 Found\n",
      "Location: https://github.com/ai-pills/datasets/raw/main/real_estate.csv [following]\n",
      "--2022-10-15 17:23:53--  https://github.com/ai-pills/datasets/raw/main/real_estate.csv\n",
      "Reusing existing connection to github.com:443.\n",
      "HTTP request sent, awaiting response... 302 Found\n",
      "Location: https://raw.githubusercontent.com/ai-pills/datasets/main/real_estate.csv [following]\n",
      "--2022-10-15 17:23:53--  https://raw.githubusercontent.com/ai-pills/datasets/main/real_estate.csv\n",
      "Resolving raw.githubusercontent.com (raw.githubusercontent.com)... 185.199.108.133, 185.199.109.133, 185.199.111.133, ...\n",
      "Connecting to raw.githubusercontent.com (raw.githubusercontent.com)|185.199.108.133|:443... connected.\n",
      "HTTP request sent, awaiting response... 200 OK\n",
      "Length: 16599 (16K) [text/plain]\n",
      "Saving to: ‘real_estate.csv’\n",
      "\n",
      "real_estate.csv     100%[===================>]  16.21K  --.-KB/s    in 0.002s  \n",
      "\n",
      "2022-10-15 17:23:53 (7.62 MB/s) - ‘real_estate.csv’ saved [16599/16599]\n",
      "\n"
     ]
    }
   ],
   "source": [
    "!wget -O real_estate.csv https://github.com/ai-pills/datasets/blob/main/real_estate.csv?raw=True"
   ]
  },
  {
   "cell_type": "code",
   "execution_count": 4,
   "metadata": {},
   "outputs": [
    {
     "data": {
      "text/html": [
       "<div>\n",
       "<style scoped>\n",
       "    .dataframe tbody tr th:only-of-type {\n",
       "        vertical-align: middle;\n",
       "    }\n",
       "\n",
       "    .dataframe tbody tr th {\n",
       "        vertical-align: top;\n",
       "    }\n",
       "\n",
       "    .dataframe thead th {\n",
       "        text-align: right;\n",
       "    }\n",
       "</style>\n",
       "<table border=\"1\" class=\"dataframe\">\n",
       "  <thead>\n",
       "    <tr style=\"text-align: right;\">\n",
       "      <th></th>\n",
       "      <th>house age</th>\n",
       "      <th>dist to MRT</th>\n",
       "      <th>#stores</th>\n",
       "      <th>latitude</th>\n",
       "      <th>longitude</th>\n",
       "      <th>price per area</th>\n",
       "    </tr>\n",
       "  </thead>\n",
       "  <tbody>\n",
       "    <tr>\n",
       "      <th>0</th>\n",
       "      <td>14.8</td>\n",
       "      <td>393.2606</td>\n",
       "      <td>6</td>\n",
       "      <td>24.96172</td>\n",
       "      <td>121.53812</td>\n",
       "      <td>7.6</td>\n",
       "    </tr>\n",
       "    <tr>\n",
       "      <th>1</th>\n",
       "      <td>17.4</td>\n",
       "      <td>6488.0210</td>\n",
       "      <td>1</td>\n",
       "      <td>24.95719</td>\n",
       "      <td>121.47353</td>\n",
       "      <td>11.2</td>\n",
       "    </tr>\n",
       "    <tr>\n",
       "      <th>2</th>\n",
       "      <td>16.0</td>\n",
       "      <td>4066.5870</td>\n",
       "      <td>0</td>\n",
       "      <td>24.94297</td>\n",
       "      <td>121.50342</td>\n",
       "      <td>11.6</td>\n",
       "    </tr>\n",
       "    <tr>\n",
       "      <th>3</th>\n",
       "      <td>30.9</td>\n",
       "      <td>6396.2830</td>\n",
       "      <td>1</td>\n",
       "      <td>24.94375</td>\n",
       "      <td>121.47883</td>\n",
       "      <td>12.2</td>\n",
       "    </tr>\n",
       "    <tr>\n",
       "      <th>4</th>\n",
       "      <td>16.5</td>\n",
       "      <td>4082.0150</td>\n",
       "      <td>0</td>\n",
       "      <td>24.94155</td>\n",
       "      <td>121.50381</td>\n",
       "      <td>12.8</td>\n",
       "    </tr>\n",
       "  </tbody>\n",
       "</table>\n",
       "</div>"
      ],
      "text/plain": [
       "   house age  dist to MRT  #stores  latitude  longitude  price per area\n",
       "0       14.8     393.2606        6  24.96172  121.53812             7.6\n",
       "1       17.4    6488.0210        1  24.95719  121.47353            11.2\n",
       "2       16.0    4066.5870        0  24.94297  121.50342            11.6\n",
       "3       30.9    6396.2830        1  24.94375  121.47883            12.2\n",
       "4       16.5    4082.0150        0  24.94155  121.50381            12.8"
      ]
     },
     "execution_count": 4,
     "metadata": {},
     "output_type": "execute_result"
    }
   ],
   "source": [
    "data = pd.read_csv('real_estate.csv', sep=',')\n",
    "data.head() # Head returns the first 5 elements"
   ]
  },
  {
   "cell_type": "markdown",
   "metadata": {},
   "source": [
    "* Our goal is to learn a model that can estimate \"price per area\"\n",
    "* But how do we achieve that?\n",
    "\n",
    "**The first step is using Maths to formalize the problem**"
   ]
  },
  {
   "cell_type": "markdown",
   "metadata": {
    "slideshow": {
     "slide_type": "subslide"
    }
   },
   "source": [
    "## Input, Output, Examples, Targets\n",
    "\n",
    "**Formally, we say that:**\n",
    "\n",
    "* All columns except the price represent the _input $x$_ of our model\n",
    "  - Inputs are often referred to as _attributes_\n",
    "* The price represents the _output $y$_ of our model\n",
    "* Each row in the table represents one data point, i.e. an _example $(\\hat{x}_i, \\hat{y}_i)$_\n",
    "  - $\\hat{x}_i$ is the input value for the $i$-th example\n",
    "  - $\\hat{y}_i$ is the true output value (or _target_) for the $i$-th example\n",
    "\n",
    "**Our goal is to learn a model $f$ such that**\n",
    "\n",
    "* When we feed the input $\\hat{x}_i$ of each example to it\n",
    "* ...The output value $y_i = f(\\hat{x}_i)$ is as close as possible to $\\hat{y}_i$\n",
    "\n",
    "**This kind of _task_ is known in ML as _supervised learning_**\n",
    " "
   ]
  },
  {
   "cell_type": "markdown",
   "metadata": {
    "slideshow": {
     "slide_type": "subslide"
    }
   },
   "source": [
    "## Supervised Learning and Regression\n",
    "\n",
    "**Supervised Learning is among the most common forms of ML**\n",
    "\n",
    "Our _model_ is a function $f(x,; w)$ with input $x$ and _parameters $w$_\n",
    "\n",
    "* If the output is numeric, we speak of _regression_\n",
    "* ...And we can define the approximation error over the example using, e.g.:\n",
    "\n",
    "$$\n",
    "\\mathit{MSE}(w) = \\frac{1}{m}\\sum_{i=1}^m \\left(f(x_i,; w) - y_i\\right)^2\n",
    "$$\n",
    "\n",
    "* \"MSE\" stands for _Mean Squared Error_ and it's a common error metric\n",
    "\n",
    "**Training in a (MSE) regression problem consists in solving**\n",
    "\n",
    "$$\n",
    "\\text{argmin}_w \\, \\mathit{MSE}(w)\n",
    "$$\n",
    "\n",
    "\n",
    "* I.e. choosing the parameters $w$ to minimize approximation error"
   ]
  },
  {
   "cell_type": "markdown",
   "metadata": {
    "slideshow": {
     "slide_type": "subslide"
    }
   },
   "source": [
    "## Supervised Learning...And Linear Regression\n",
    "\n",
    "**We speak instead of _Linear Regression_**\n",
    "\n",
    "...When $f$ is defined as a _linear combination of basis functions_\n",
    "\n",
    "$$\n",
    "f(x; w) = \\sum_{i=1}^n w_j \\phi_j(x)\n",
    "$$\n",
    "\n",
    "**In our case each basis function will correspond to _a specific input column_**\n",
    "\n",
    "...Plus a fixed term (think of that as a \"1\")\n",
    "\n",
    "$$\\begin{align}\n",
    "f(x; w) =&\\ w_0 + w_1 \\{\\text{age}\\} + w_2 \\{\\text{MRT dist.}\\} + w_3 \\{\\text{#stores}\\} + \\\\\n",
    "&\\ w_4 \\{\\text{latitude}\\} + w_5 \\{\\text{longitude}\\}\n",
    "\\end{align}$$\n",
    "\n",
    "* This is a very common setup when using linear regression"
   ]
  },
  {
   "cell_type": "markdown",
   "metadata": {
    "slideshow": {
     "slide_type": "subslide"
    }
   },
   "source": [
    "## Supervised Learning...And Linear Regression\n",
    "\n",
    "**We speak instead of _Linear Regression_**\n",
    "\n",
    "...When $f$ is defined as a _linear combination of basis functions_\n",
    "\n",
    "$$\n",
    "f(x; w) = \\sum_{i=1}^n w_j \\phi_j(x)\n",
    "$$\n",
    "\n",
    "**Linear regression is one of the simplest supervised learning approaches**\n",
    "\n",
    "...But it is still a very good example!\n",
    "\n",
    "* Since the model itself is relatively simple\n",
    "* ...It will allow us to focus on the key challenges when using ML"
   ]
  },
  {
   "cell_type": "markdown",
   "metadata": {
    "slideshow": {
     "slide_type": "subslide"
    }
   },
   "source": [
    "## Separating Input and Output\n",
    "\n",
    "**Our first step will be separating our input and output**"
   ]
  },
  {
   "cell_type": "code",
   "execution_count": 5,
   "metadata": {},
   "outputs": [
    {
     "data": {
      "text/html": [
       "<div>\n",
       "<style scoped>\n",
       "    .dataframe tbody tr th:only-of-type {\n",
       "        vertical-align: middle;\n",
       "    }\n",
       "\n",
       "    .dataframe tbody tr th {\n",
       "        vertical-align: top;\n",
       "    }\n",
       "\n",
       "    .dataframe thead th {\n",
       "        text-align: right;\n",
       "    }\n",
       "</style>\n",
       "<table border=\"1\" class=\"dataframe\">\n",
       "  <thead>\n",
       "    <tr style=\"text-align: right;\">\n",
       "      <th></th>\n",
       "      <th>house age</th>\n",
       "      <th>dist to MRT</th>\n",
       "      <th>#stores</th>\n",
       "      <th>latitude</th>\n",
       "      <th>longitude</th>\n",
       "    </tr>\n",
       "  </thead>\n",
       "  <tbody>\n",
       "    <tr>\n",
       "      <th>0</th>\n",
       "      <td>14.8</td>\n",
       "      <td>393.2606</td>\n",
       "      <td>6</td>\n",
       "      <td>24.96172</td>\n",
       "      <td>121.53812</td>\n",
       "    </tr>\n",
       "    <tr>\n",
       "      <th>1</th>\n",
       "      <td>17.4</td>\n",
       "      <td>6488.0210</td>\n",
       "      <td>1</td>\n",
       "      <td>24.95719</td>\n",
       "      <td>121.47353</td>\n",
       "    </tr>\n",
       "    <tr>\n",
       "      <th>2</th>\n",
       "      <td>16.0</td>\n",
       "      <td>4066.5870</td>\n",
       "      <td>0</td>\n",
       "      <td>24.94297</td>\n",
       "      <td>121.50342</td>\n",
       "    </tr>\n",
       "    <tr>\n",
       "      <th>3</th>\n",
       "      <td>30.9</td>\n",
       "      <td>6396.2830</td>\n",
       "      <td>1</td>\n",
       "      <td>24.94375</td>\n",
       "      <td>121.47883</td>\n",
       "    </tr>\n",
       "    <tr>\n",
       "      <th>4</th>\n",
       "      <td>16.5</td>\n",
       "      <td>4082.0150</td>\n",
       "      <td>0</td>\n",
       "      <td>24.94155</td>\n",
       "      <td>121.50381</td>\n",
       "    </tr>\n",
       "  </tbody>\n",
       "</table>\n",
       "</div>"
      ],
      "text/plain": [
       "   house age  dist to MRT  #stores  latitude  longitude\n",
       "0       14.8     393.2606        6  24.96172  121.53812\n",
       "1       17.4    6488.0210        1  24.95719  121.47353\n",
       "2       16.0    4066.5870        0  24.94297  121.50342\n",
       "3       30.9    6396.2830        1  24.94375  121.47883\n",
       "4       16.5    4082.0150        0  24.94155  121.50381"
      ]
     },
     "metadata": {},
     "output_type": "display_data"
    }
   ],
   "source": [
    "cols = data.columns\n",
    "X = data[cols[:-1]] # all columns except the last one\n",
    "display(X.head())"
   ]
  },
  {
   "cell_type": "markdown",
   "metadata": {},
   "source": [
    "**We will focus on predicting the logarithm of the price per area**"
   ]
  },
  {
   "cell_type": "code",
   "execution_count": 6,
   "metadata": {},
   "outputs": [],
   "source": [
    "y = np.log(data[cols[-1]]) # just the last column"
   ]
  },
  {
   "cell_type": "markdown",
   "metadata": {},
   "source": [
    "* In practice, it's like predicting the order of magnitude"
   ]
  },
  {
   "cell_type": "markdown",
   "metadata": {
    "slideshow": {
     "slide_type": "subslide"
    }
   },
   "source": [
    "## Training and Test Set\n",
    "\n",
    "**The model we learn should work well on _all relevant data_**\n",
    "\n",
    "Formally, the model should _generalize_ well\n",
    "\n",
    "* How do we check whether this is the case?\n",
    "* A typical approach: partitioning our dataset\n",
    "\n",
    "**The basic idea is to split our data in two groups**\n",
    "\n",
    "* The first group will actually be used for training\n",
    "  - This will be called the _training set_\n",
    "* The second group will be used only _for model evaluation_\n",
    "  - This will be called the _test set_ (or _holdout set_)\n",
    "\n",
    "**With this trick, we can assess our model performance on _unseen data_**"
   ]
  },
  {
   "cell_type": "markdown",
   "metadata": {
    "slideshow": {
     "slide_type": "subslide"
    }
   },
   "source": [
    "## Training and Test Set\n",
    "\n",
    "**There are a couple of catches**\n",
    "\n",
    "For this to work:\n",
    "\n",
    "* The examples in the training set and the test set should be similar\n",
    "* The test data should be a good match for the data we'll use for real\n",
    "\n",
    "Ideally, we should have that:\n",
    "\n",
    "> **The training data should be _representative of the true population_**\n",
    "\n",
    "This is the golden rule for building a training set\n",
    "\n",
    "* Sometimes that's relatively easy to do\n",
    "* ...But sometimes it may be difficult or impossible"
   ]
  },
  {
   "cell_type": "markdown",
   "metadata": {
    "slideshow": {
     "slide_type": "subslide"
    }
   },
   "source": [
    "## Training and Test Set\n",
    "\n",
    "**In our case, we have a small problem**\n",
    "\n",
    "Our data is sorted by \"price per area\"\n",
    "\n",
    "* So if we split our data sequentially in two groups\n",
    "* ...We will train our model only on low prices\n",
    "* ...And evaluate its performance only on higher prices\n",
    "\n",
    "If we do it, the model will _generalize poorly_\n",
    "\n",
    "**How do we avoid this potential mistake?**"
   ]
  },
  {
   "cell_type": "markdown",
   "metadata": {
    "slideshow": {
     "slide_type": "fragment"
    }
   },
   "source": [
    "The solution is to _shuffle the data_ before partitioning\n",
    "\n",
    "* With this simple trick, the training and test distribution\n",
    "* ...Are statistically guaranteed to be similar"
   ]
  },
  {
   "cell_type": "markdown",
   "metadata": {
    "slideshow": {
     "slide_type": "subslide"
    }
   },
   "source": [
    "## Training and Test Set\n",
    "\n",
    "**As tool for learning our model, we will use [scikit-learn](https://scikit-learn.org/)**\n",
    "\n",
    "...Which provides a function to handle shuffling and training/test splitting:"
   ]
  },
  {
   "cell_type": "code",
   "execution_count": 7,
   "metadata": {},
   "outputs": [
    {
     "name": "stdout",
     "output_type": "stream",
     "text": [
      "Size of the training set: 273\n",
      "Size of the test set: 141\n"
     ]
    }
   ],
   "source": [
    "from sklearn.model_selection import train_test_split\n",
    "\n",
    "X_tr, X_ts, y_tr, y_ts = train_test_split(X, y, test_size=0.34, random_state=42)\n",
    "\n",
    "print(f'Size of the training set: {len(X_tr)}')\n",
    "print(f'Size of the test set: {len(X_ts)}')"
   ]
  },
  {
   "cell_type": "markdown",
   "metadata": {},
   "source": [
    "The function `train_test_split`\n",
    "\n",
    "* Randomly shuffles the data (optionally with a fixed seed `random_state`)\n",
    "* Puts a fraction `test_size` of the data in the test set\n",
    "* ...And the remaining data in the training set\n",
    "* Both the input and the output data is processed in this fashion"
   ]
  },
  {
   "cell_type": "markdown",
   "metadata": {
    "slideshow": {
     "slide_type": "subslide"
    }
   },
   "source": [
    "## Training and Test Set\n",
    "\n",
    "**Using separate test set is _extremely important_**\n",
    "\n",
    "...Because we want our model to work on _new data_\n",
    "\n",
    "* We have no use for a model that _learns the input data perfectly_\n",
    "* ...But that _behaves poorly on unseen data_\n",
    "* In these cases, we say that the model _does not generalize_\n",
    "\n",
    "By keeping a separate test set we can simulate this evaluation\n",
    "\n",
    "**However, beware of exception!**\n",
    "\n",
    "Sometimes, you it impossible to guarantee train/test similarity\n",
    "\n",
    "* E.g. when making forecasts over time, the _historical_ system behavior\n",
    "* ...Can be different from the _future_ system behavior\n",
    "* In that case, the train/test split should simulate the expected difference\n",
    "\n",
    "The trick is to think of what the train and test data will be _at deployment time_"
   ]
  },
  {
   "cell_type": "markdown",
   "metadata": {
    "slideshow": {
     "slide_type": "subslide"
    }
   },
   "source": [
    "## Fitting the Model\n",
    "\n",
    "**We can now train a linear model**"
   ]
  },
  {
   "cell_type": "code",
   "execution_count": 8,
   "metadata": {},
   "outputs": [
    {
     "data": {
      "text/plain": [
       "LinearRegression()"
      ]
     },
     "execution_count": 8,
     "metadata": {},
     "output_type": "execute_result"
    }
   ],
   "source": [
    "from sklearn.linear_model import LinearRegression\n",
    "\n",
    "m = LinearRegression()\n",
    "m.fit(X_tr, y_tr)"
   ]
  },
  {
   "cell_type": "markdown",
   "metadata": {},
   "source": [
    "We obtain the estimated output via the `predict` method:"
   ]
  },
  {
   "cell_type": "code",
   "execution_count": 9,
   "metadata": {},
   "outputs": [],
   "source": [
    "y_pred_tr = m.predict(X_tr)\n",
    "y_pred_ts = m.predict(X_ts)"
   ]
  },
  {
   "cell_type": "markdown",
   "metadata": {},
   "source": [
    "* The predictions (unlike the targets) are not guaranteed to be integers\n",
    "* ...But that is still fine, since it's easy to interpret them"
   ]
  },
  {
   "cell_type": "markdown",
   "metadata": {
    "slideshow": {
     "slide_type": "subslide"
    }
   },
   "source": [
    "## Evaluation\n",
    "\n",
    "**Finally, we need to evaluate the prediction quality**\n",
    "\n",
    "A common approach is using metrics. Here are a few examples:\n",
    "\n",
    "* The _Mean Absolute Error_ is given by:\n",
    "$$\n",
    "\\mathit{MAE} = \\frac{1}{m}\\sum_{i=1}^m \\left|f(x_i) - y_i\\right|\n",
    "$$\n",
    "* The _Root Mean Squared Error_ is given by:\n",
    "$$\n",
    "\\mathit{RMSE} = \\sqrt{\\frac{1}{m} \\sum_{i=1}^m (f(x_i) - y_i)^2}\n",
    "$$\n",
    "\n",
    "Both the RMSE and MAE a simple error measures\n",
    "\n",
    "* They are expresses in the same unit as the original variable"
   ]
  },
  {
   "cell_type": "markdown",
   "metadata": {
    "slideshow": {
     "slide_type": "subslide"
    }
   },
   "source": [
    "## Evaluation\n",
    "\n",
    "\n",
    "* The coefficient of determination ($R^2$ coefficient) is given by:\n",
    "$$\n",
    "R^2 = 1 - \\frac{\\sum_{i=1}^m (f(x_i) - y_i)^2}{\\sum_{i=1}^m (y_i - \\tilde{y})^2}\n",
    "$$\n",
    "where $\\tilde{y}$ is the average of the $y$ values\n",
    "\n",
    "**The coefficient of determination is a useful, but more complex metric:**\n",
    "\n",
    "* Its maximum is 1: an $R^2 = 1$ implies perfect predictions\n",
    "* Having a known maximum make the metric very readable\n",
    "* It can be arbitrarily low (including negative)\n",
    "* It can be subject to a lot of noise if the targets $y$ have low variance\n",
    "\n",
    "**Using the MSE directly for evaluation is usually a bad idea**\n",
    "\n",
    "...Since it is a square, and therefore not easy to parse for a human"
   ]
  },
  {
   "cell_type": "markdown",
   "metadata": {
    "slideshow": {
     "slide_type": "subslide"
    }
   },
   "source": [
    "## Evaluation\n",
    "\n",
    "**Let's see the values for our example**"
   ]
  },
  {
   "cell_type": "code",
   "execution_count": 10,
   "metadata": {},
   "outputs": [
    {
     "name": "stdout",
     "output_type": "stream",
     "text": [
      "MAE on the training data: 0.143\n",
      "MAE on the test data: 0.177\n",
      "RMSE on the training data: 0.207\n",
      "RMSE on the test data: 0.253\n",
      "R2 on the training data: 0.691\n",
      "R2 on the test data: 0.645\n"
     ]
    }
   ],
   "source": [
    "from sklearn.metrics import r2_score, mean_absolute_error, mean_squared_error\n",
    "\n",
    "print(f'MAE on the training data: {mean_absolute_error(y_tr, y_pred_tr):.3}')\n",
    "print(f'MAE on the test data: {mean_absolute_error(y_ts, y_pred_ts):.3}')\n",
    "print(f'RMSE on the training data: {np.sqrt(mean_squared_error(y_tr, y_pred_tr)):.3}')\n",
    "print(f'RMSE on the test data: {np.sqrt(mean_squared_error(y_ts, y_pred_ts)):.3}')\n",
    "print(f'R2 on the training data: {r2_score(y_tr, y_pred_tr):.3}')\n",
    "print(f'R2 on the test data: {r2_score(y_ts, y_pred_ts):.3}')"
   ]
  },
  {
   "cell_type": "markdown",
   "metadata": {},
   "source": [
    "* In general, we have better predictions on the training set than on the test set\n",
    "* This is symptomatic of some _overfitting_\n",
    "* I.e. we are learning patterns that don't translate to unseen data\n",
    "\n",
    "Later on, we will see some techniques to deal with this situation"
   ]
  },
  {
   "cell_type": "markdown",
   "metadata": {
    "slideshow": {
     "slide_type": "subslide"
    }
   },
   "source": [
    "## Evaluation\n",
    "\n",
    "**As an (important!) alternative to metrics, we can use _scatter plots_**\n",
    "\n",
    "We can show the true vales on the x-axis, the predictions on the y-axis"
   ]
  },
  {
   "cell_type": "code",
   "execution_count": 11,
   "metadata": {},
   "outputs": [
    {
     "data": {
      "image/png": "[encoded data removed]",
      "text/plain": [
       "<Figure size 1400x450 with 1 Axes>"
      ]
     },
     "metadata": {},
     "output_type": "display_data"
    }
   ],
   "source": [
    "plt.figure(figsize=figsize)\n",
    "plt.scatter(y_ts, y_pred_ts, alpha=0.2)\n",
    "plt.plot(plt.xlim(), plt.ylim(), linestyle=':', color='tab:orange')\n",
    "plt.tight_layout(); plt.grid(':')"
   ]
  },
  {
   "cell_type": "markdown",
   "metadata": {},
   "source": [
    "This gives us a better idea of which kind of mistakes the model is making"
   ]
  },
  {
   "cell_type": "markdown",
   "metadata": {
    "slideshow": {
     "slide_type": "subslide"
    }
   },
   "source": [
    "## Conclusions and Take-Home Messages\n",
    "\n",
    "* Basic formulation of _supervised learning_\n",
    "  - I.e. _learning a model_ from available examples\n",
    "  - ...When the examples contain values for _both the input and the output_\n",
    "* Basic linear regression model\n",
    "  - One the _simplest approaches_ for supervised learning\n",
    "  - I.e. the output is a _linear combination_ of the input values\n",
    "  - Regression = we estimate a numeric quantity\n",
    "* Train/test set split\n",
    "  - Needed to evaluate our model on _unseen data_ (generalization)\n",
    "* Evaluation of regression models\n",
    "  - Make sure to compare the performance on _both training and test data_  \n",
    "  - _Metrics_ (e.g. RMSE, MAE) provide a compact evaluation\n",
    "  - _Scatter plot_ for a more fine-grained evaluation"
   ]
  }
 ],
 "metadata": {
  "celltoolbar": "Slideshow",
  "kernelspec": {
   "display_name": "Python 3 (ipykernel)",
   "language": "python",
   "name": "python3"
  },
  "language_info": {
   "codemirror_mode": {
    "name": "ipython",
    "version": 3
   },
   "file_extension": ".py",
   "mimetype": "text/x-python",
   "name": "python",
   "nbconvert_exporter": "python",
   "pygments_lexer": "ipython3",
   "version": "3.8.15"
  },
  "rise": {
   "center": false,
   "transition": "fade"
  },
  "widgets": {
   "application/vnd.jupyter.widget-state+json": {
    "state": {},
    "version_major": 2,
    "version_minor": 0
   }
  }
 },
 "nbformat": 4,
 "nbformat_minor": 4
}
