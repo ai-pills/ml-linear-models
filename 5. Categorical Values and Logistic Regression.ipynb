{
 "cells": [
  {
   "cell_type": "code",
   "execution_count": 1,
   "metadata": {
    "slideshow": {
     "slide_type": "skip"
    }
   },
   "outputs": [],
   "source": [
    "# ======================================================================================\n",
    "# Notebook setup\n",
    "# \n",
    "# Run this cell before all others to make sure that the Jupyter notebook works properly\n",
    "# ======================================================================================\n",
    "\n",
    "import pandas as pd\n",
    "import numpy as np\n",
    "from matplotlib import pyplot as plt\n",
    "figsize = (14, 4.5)"
   ]
  },
  {
   "cell_type": "markdown",
   "metadata": {
    "slideshow": {
     "slide_type": "subslide"
    }
   },
   "source": [
    "## Overview\n",
    "\n",
    "**This tutorial will focus on _Logistic Regression_**\n",
    "\n",
    "We will include some additional topics, including: \n",
    "\n",
    "* Handling categorical attributes\n",
    "* Logistic regression\n",
    "* Training for maximum likelihood\n",
    "* Evaluation of classification models"
   ]
  },
  {
   "cell_type": "markdown",
   "metadata": {
    "slideshow": {
     "slide_type": "subslide"
    }
   },
   "source": [
    "## Overview\n",
    "\n",
    "**The lecture relies on the the following proficiencies and tools:**\n",
    "\n",
    "* [Python](https://www.python.org/) programming\n",
    "* Vector computations via [the numpy module](https://numpy.org/)\n",
    "* Data handling using [the pandas module](https://pandas.pydata.org/)\n",
    "* Plotting using [matplotlib](https://matplotlib.org/)\n",
    "* Training and using Machine Learning model via [scikit-learn](https://scikit-learn.org/)\n",
    "\n",
    "You will need them only if you plan to handle these tasks yourself\n"
   ]
  },
  {
   "cell_type": "markdown",
   "metadata": {
    "slideshow": {
     "slide_type": "slide"
    }
   },
   "source": [
    "# Categorical Attributes"
   ]
  },
  {
   "cell_type": "markdown",
   "metadata": {
    "slideshow": {
     "slide_type": "subslide"
    }
   },
   "source": [
    "## Categorical Attributes\n",
    "\n",
    "**Let's switch to a different dataset (a toy one)**\n",
    "\n",
    "<center><img src=\"assets/weather.jpg\" width=50%></center>\n",
    "\n",
    "* We want to train a model to choose whether to go out and play\n",
    "* ...Based on weather conditions\n"
   ]
  },
  {
   "cell_type": "markdown",
   "metadata": {
    "slideshow": {
     "slide_type": "subslide"
    }
   },
   "source": [
    "## Loading the Data\n",
    "\n",
    "**The dataset is in the `weather.csv` file from the `data` folder**"
   ]
  },
  {
   "cell_type": "code",
   "execution_count": 5,
   "metadata": {},
   "outputs": [
    {
     "name": "stdout",
     "output_type": "stream",
     "text": [
      "--2022-10-15 17:26:52--  https://github.com/ai-pills/datasets/blob/main/weather.csv?raw=True\n",
      "Resolving github.com (github.com)... 140.82.121.4\n",
      "Connecting to github.com (github.com)|140.82.121.4|:443... connected.\n",
      "HTTP request sent, awaiting response... 302 Found\n",
      "Location: https://github.com/ai-pills/datasets/raw/main/weather.csv [following]\n",
      "--2022-10-15 17:26:52--  https://github.com/ai-pills/datasets/raw/main/weather.csv\n",
      "Reusing existing connection to github.com:443.\n",
      "HTTP request sent, awaiting response... 302 Found\n",
      "Location: https://raw.githubusercontent.com/ai-pills/datasets/main/weather.csv [following]\n",
      "--2022-10-15 17:26:52--  https://raw.githubusercontent.com/ai-pills/datasets/main/weather.csv\n",
      "Resolving raw.githubusercontent.com (raw.githubusercontent.com)... 185.199.110.133, 185.199.111.133, 185.199.109.133, ...\n",
      "Connecting to raw.githubusercontent.com (raw.githubusercontent.com)|185.199.110.133|:443... connected.\n",
      "HTTP request sent, awaiting response... 200 OK\n",
      "Length: 374 [text/plain]\n",
      "Saving to: ‘weather.csv’\n",
      "\n",
      "weather.csv         100%[===================>]     374  --.-KB/s    in 0s      \n",
      "\n",
      "2022-10-15 17:26:52 (60.6 MB/s) - ‘weather.csv’ saved [374/374]\n",
      "\n"
     ]
    }
   ],
   "source": [
    "!wget -O weather.csv https://github.com/ai-pills/datasets/blob/main/weather.csv?raw=True"
   ]
  },
  {
   "cell_type": "code",
   "execution_count": 6,
   "metadata": {},
   "outputs": [
    {
     "data": {
      "text/html": [
       "<div>\n",
       "<style scoped>\n",
       "    .dataframe tbody tr th:only-of-type {\n",
       "        vertical-align: middle;\n",
       "    }\n",
       "\n",
       "    .dataframe tbody tr th {\n",
       "        vertical-align: top;\n",
       "    }\n",
       "\n",
       "    .dataframe thead th {\n",
       "        text-align: right;\n",
       "    }\n",
       "</style>\n",
       "<table border=\"1\" class=\"dataframe\">\n",
       "  <thead>\n",
       "    <tr style=\"text-align: right;\">\n",
       "      <th></th>\n",
       "      <th>outlook</th>\n",
       "      <th>temperature</th>\n",
       "      <th>humidity</th>\n",
       "      <th>windy</th>\n",
       "      <th>play</th>\n",
       "    </tr>\n",
       "  </thead>\n",
       "  <tbody>\n",
       "    <tr>\n",
       "      <th>0</th>\n",
       "      <td>sunny</td>\n",
       "      <td>85</td>\n",
       "      <td>85</td>\n",
       "      <td>False</td>\n",
       "      <td>no</td>\n",
       "    </tr>\n",
       "    <tr>\n",
       "      <th>1</th>\n",
       "      <td>sunny</td>\n",
       "      <td>80</td>\n",
       "      <td>90</td>\n",
       "      <td>True</td>\n",
       "      <td>no</td>\n",
       "    </tr>\n",
       "    <tr>\n",
       "      <th>2</th>\n",
       "      <td>overcast</td>\n",
       "      <td>83</td>\n",
       "      <td>86</td>\n",
       "      <td>False</td>\n",
       "      <td>yes</td>\n",
       "    </tr>\n",
       "    <tr>\n",
       "      <th>3</th>\n",
       "      <td>rainy</td>\n",
       "      <td>70</td>\n",
       "      <td>96</td>\n",
       "      <td>False</td>\n",
       "      <td>yes</td>\n",
       "    </tr>\n",
       "    <tr>\n",
       "      <th>4</th>\n",
       "      <td>rainy</td>\n",
       "      <td>68</td>\n",
       "      <td>80</td>\n",
       "      <td>False</td>\n",
       "      <td>yes</td>\n",
       "    </tr>\n",
       "  </tbody>\n",
       "</table>\n",
       "</div>"
      ],
      "text/plain": [
       "    outlook  temperature  humidity  windy play\n",
       "0     sunny           85        85  False   no\n",
       "1     sunny           80        90   True   no\n",
       "2  overcast           83        86  False  yes\n",
       "3     rainy           70        96  False  yes\n",
       "4     rainy           68        80  False  yes"
      ]
     },
     "execution_count": 6,
     "metadata": {},
     "output_type": "execute_result"
    }
   ],
   "source": [
    "data = pd.read_csv('weather.csv', sep=',')\n",
    "data.head()"
   ]
  },
  {
   "cell_type": "markdown",
   "metadata": {},
   "source": [
    "* Several attributes _do not have a numeric value_\n",
    "* Instead, their value is discrete with no clear ordering, i.e. _categorical_\n",
    "\n",
    "**We need a _numeric encoding_ to handle this data with linear models**"
   ]
  },
  {
   "cell_type": "markdown",
   "metadata": {
    "slideshow": {
     "slide_type": "subslide"
    }
   },
   "source": [
    "## Encoding Binary Attributes\n",
    "\n",
    "**Binary attributes can be encoded with the values 0 and 1**\n",
    "\n",
    "This is the case for the columns \"windy\" and \"play\"\n",
    "\n",
    "* First, we tell pandas that the columns have a categorical type"
   ]
  },
  {
   "cell_type": "code",
   "execution_count": 7,
   "metadata": {},
   "outputs": [
    {
     "data": {
      "text/plain": [
       "0    False\n",
       "1     True\n",
       "2    False\n",
       "3    False\n",
       "4    False\n",
       "Name: windy, dtype: category\n",
       "Categories (2, object): [False, True]"
      ]
     },
     "execution_count": 7,
     "metadata": {},
     "output_type": "execute_result"
    }
   ],
   "source": [
    "windy = data['windy'].astype('category')\n",
    "play = data['play'].astype('category')\n",
    "windy.head()"
   ]
  },
  {
   "cell_type": "markdown",
   "metadata": {},
   "source": [
    "* Categorical data is still _displayed as a string_\n",
    "* ...But internally it is _encoded as an integer_"
   ]
  },
  {
   "cell_type": "markdown",
   "metadata": {
    "slideshow": {
     "slide_type": "subslide"
    }
   },
   "source": [
    "## Encoding Binary Attributes\n",
    "\n",
    "**Next, we replace the values with their integer code**\n",
    "\n",
    "We will store the results in a copy of the original table"
   ]
  },
  {
   "cell_type": "code",
   "execution_count": 8,
   "metadata": {},
   "outputs": [
    {
     "data": {
      "text/html": [
       "<div>\n",
       "<style scoped>\n",
       "    .dataframe tbody tr th:only-of-type {\n",
       "        vertical-align: middle;\n",
       "    }\n",
       "\n",
       "    .dataframe tbody tr th {\n",
       "        vertical-align: top;\n",
       "    }\n",
       "\n",
       "    .dataframe thead th {\n",
       "        text-align: right;\n",
       "    }\n",
       "</style>\n",
       "<table border=\"1\" class=\"dataframe\">\n",
       "  <thead>\n",
       "    <tr style=\"text-align: right;\">\n",
       "      <th></th>\n",
       "      <th>outlook</th>\n",
       "      <th>temperature</th>\n",
       "      <th>humidity</th>\n",
       "      <th>windy</th>\n",
       "      <th>play</th>\n",
       "    </tr>\n",
       "  </thead>\n",
       "  <tbody>\n",
       "    <tr>\n",
       "      <th>0</th>\n",
       "      <td>sunny</td>\n",
       "      <td>85</td>\n",
       "      <td>85</td>\n",
       "      <td>0</td>\n",
       "      <td>0</td>\n",
       "    </tr>\n",
       "    <tr>\n",
       "      <th>1</th>\n",
       "      <td>sunny</td>\n",
       "      <td>80</td>\n",
       "      <td>90</td>\n",
       "      <td>1</td>\n",
       "      <td>0</td>\n",
       "    </tr>\n",
       "    <tr>\n",
       "      <th>2</th>\n",
       "      <td>overcast</td>\n",
       "      <td>83</td>\n",
       "      <td>86</td>\n",
       "      <td>0</td>\n",
       "      <td>1</td>\n",
       "    </tr>\n",
       "    <tr>\n",
       "      <th>3</th>\n",
       "      <td>rainy</td>\n",
       "      <td>70</td>\n",
       "      <td>96</td>\n",
       "      <td>0</td>\n",
       "      <td>1</td>\n",
       "    </tr>\n",
       "    <tr>\n",
       "      <th>4</th>\n",
       "      <td>rainy</td>\n",
       "      <td>68</td>\n",
       "      <td>80</td>\n",
       "      <td>0</td>\n",
       "      <td>1</td>\n",
       "    </tr>\n",
       "  </tbody>\n",
       "</table>\n",
       "</div>"
      ],
      "text/plain": [
       "    outlook  temperature  humidity  windy  play\n",
       "0     sunny           85        85      0     0\n",
       "1     sunny           80        90      1     0\n",
       "2  overcast           83        86      0     1\n",
       "3     rainy           70        96      0     1\n",
       "4     rainy           68        80      0     1"
      ]
     },
     "execution_count": 8,
     "metadata": {},
     "output_type": "execute_result"
    }
   ],
   "source": [
    "data2 = data.copy() # We prepare a cop for the numeric encodings\n",
    "data2['windy'] = windy.cat.codes\n",
    "data2['play'] = play.cat.codes\n",
    "data2.head()"
   ]
  },
  {
   "cell_type": "markdown",
   "metadata": {},
   "source": [
    "* Now it is apparent that \"windy\" and \"play\" have become numbers"
   ]
  },
  {
   "cell_type": "markdown",
   "metadata": {
    "slideshow": {
     "slide_type": "subslide"
    }
   },
   "source": [
    "## Encoding Discrete Attributes\n",
    "\n",
    "**We could use the same approach for discrete attribute in general**\n",
    "\n",
    "E.g. for the attribute \"outlook\" in our table\n",
    "\n",
    "* That would yield a numeric _integer_ encoding\n",
    "* ...Which implies an ordering among the values (e.g. rainy < overcast < sunny)\n",
    "* When no such ranking exists, this is a bad idea\n",
    "\n",
    "**In these cases, it is better to adopt a one-hot encoding**\n",
    "\n",
    "* We introduce a column for each value $v_k$ of the attribute $xj$\n",
    "* The column contains a 1 iff $x_j = v_k$, and 0 otherwise\n",
    "\n",
    "For example, \"sunny | sunny | overcast\" becomes:\n",
    "\n",
    "rainy | overcast | sunny\n",
    ":----:|:--------:|:-----:\n",
    "  0   |    0     |   1\n",
    "  0   |    0     |   1\n",
    "  0   |    1     |   0"
   ]
  },
  {
   "cell_type": "markdown",
   "metadata": {
    "slideshow": {
     "slide_type": "subslide"
    }
   },
   "source": [
    "## Encoding Discrete Attributes\n",
    "\n",
    "**We can obtain a one-hot encoding in pandas via the `get_dummies` method**"
   ]
  },
  {
   "cell_type": "code",
   "execution_count": 9,
   "metadata": {},
   "outputs": [
    {
     "data": {
      "text/html": [
       "<div>\n",
       "<style scoped>\n",
       "    .dataframe tbody tr th:only-of-type {\n",
       "        vertical-align: middle;\n",
       "    }\n",
       "\n",
       "    .dataframe tbody tr th {\n",
       "        vertical-align: top;\n",
       "    }\n",
       "\n",
       "    .dataframe thead th {\n",
       "        text-align: right;\n",
       "    }\n",
       "</style>\n",
       "<table border=\"1\" class=\"dataframe\">\n",
       "  <thead>\n",
       "    <tr style=\"text-align: right;\">\n",
       "      <th></th>\n",
       "      <th>temperature</th>\n",
       "      <th>humidity</th>\n",
       "      <th>windy</th>\n",
       "      <th>play</th>\n",
       "      <th>outlook_overcast</th>\n",
       "      <th>outlook_rainy</th>\n",
       "      <th>outlook_sunny</th>\n",
       "    </tr>\n",
       "  </thead>\n",
       "  <tbody>\n",
       "    <tr>\n",
       "      <th>0</th>\n",
       "      <td>85</td>\n",
       "      <td>85</td>\n",
       "      <td>0</td>\n",
       "      <td>0</td>\n",
       "      <td>0</td>\n",
       "      <td>0</td>\n",
       "      <td>1</td>\n",
       "    </tr>\n",
       "    <tr>\n",
       "      <th>1</th>\n",
       "      <td>80</td>\n",
       "      <td>90</td>\n",
       "      <td>1</td>\n",
       "      <td>0</td>\n",
       "      <td>0</td>\n",
       "      <td>0</td>\n",
       "      <td>1</td>\n",
       "    </tr>\n",
       "    <tr>\n",
       "      <th>2</th>\n",
       "      <td>83</td>\n",
       "      <td>86</td>\n",
       "      <td>0</td>\n",
       "      <td>1</td>\n",
       "      <td>1</td>\n",
       "      <td>0</td>\n",
       "      <td>0</td>\n",
       "    </tr>\n",
       "    <tr>\n",
       "      <th>3</th>\n",
       "      <td>70</td>\n",
       "      <td>96</td>\n",
       "      <td>0</td>\n",
       "      <td>1</td>\n",
       "      <td>0</td>\n",
       "      <td>1</td>\n",
       "      <td>0</td>\n",
       "    </tr>\n",
       "    <tr>\n",
       "      <th>4</th>\n",
       "      <td>68</td>\n",
       "      <td>80</td>\n",
       "      <td>0</td>\n",
       "      <td>1</td>\n",
       "      <td>0</td>\n",
       "      <td>1</td>\n",
       "      <td>0</td>\n",
       "    </tr>\n",
       "  </tbody>\n",
       "</table>\n",
       "</div>"
      ],
      "text/plain": [
       "   temperature  humidity  windy  play  outlook_overcast  outlook_rainy  \\\n",
       "0           85        85      0     0                 0              0   \n",
       "1           80        90      1     0                 0              0   \n",
       "2           83        86      0     1                 1              0   \n",
       "3           70        96      0     1                 0              1   \n",
       "4           68        80      0     1                 0              1   \n",
       "\n",
       "   outlook_sunny  \n",
       "0              1  \n",
       "1              1  \n",
       "2              0  \n",
       "3              0  \n",
       "4              0  "
      ]
     },
     "execution_count": 9,
     "metadata": {},
     "output_type": "execute_result"
    }
   ],
   "source": [
    "data2 = pd.get_dummies(data2)\n",
    "data2.head()"
   ]
  },
  {
   "cell_type": "markdown",
   "metadata": {},
   "source": [
    "* The method by default processes all columns with categorical or object type\n",
    "  - Strings in csv files are often parsed as \"object\" columns\n",
    "* `get_dummies` can also handle the special case of binary variables\n",
    "  - ...But I wanted to show you how to obtain an integer encoding, too :-)"
   ]
  },
  {
   "cell_type": "markdown",
   "metadata": {
    "slideshow": {
     "slide_type": "slide"
    }
   },
   "source": [
    "# Logistic Regression"
   ]
  },
  {
   "cell_type": "markdown",
   "metadata": {
    "slideshow": {
     "slide_type": "subslide"
    }
   },
   "source": [
    "## Logistic Regression\n",
    "\n",
    "**Our goal is to predict the value of \"play\", i.e. _a categorical attribute_**\n",
    "\n",
    "We say that we are dealing with _a classification problem_\n",
    "\n",
    "* This is second type of ML _task_\n",
    "* I.e. another broad definition of an ML problem\n",
    "\n",
    "**Classification problem can be tackled via Linear Models**\n",
    "\n",
    "...Via a relatively simple modification\n",
    "\n",
    "* However, even if it looks like a simple mathematical \"hack\"\n",
    "* ...The modification has a strong theoretical basis!\n",
    "\n",
    "We will discuss this topic a bit in this lecture\n",
    "\n",
    "**Classification and regression have a distinct statistical foundation**"
   ]
  },
  {
   "cell_type": "markdown",
   "metadata": {
    "slideshow": {
     "slide_type": "subslide"
    }
   },
   "source": [
    "## Logistic Regression\n",
    "\n",
    "**A linear model for classification can be obtained as follows:**\n",
    "\n",
    "* First, we compute the output as usual:\n",
    "$$\n",
    "g(x; w) = \\sum_{j=1} w_j x_j + w_0\n",
    "$$ \n",
    "* ...But then we feed it to a _logistic function_:\n",
    "$$\n",
    "\\frac{1}{1 + e^{-x}}\n",
    "$$\n",
    "\n",
    "\n",
    "Overall, we obtain:\n",
    "$$\n",
    "f(x; w) = \\frac{1}{1 + e^{-g(x; w)}}\n",
    "$$"
   ]
  },
  {
   "cell_type": "markdown",
   "metadata": {
    "slideshow": {
     "slide_type": "subslide"
    }
   },
   "source": [
    "## Logistic Regression\n",
    "\n",
    "**The logistic function is a type of _sigmoid_ function**"
   ]
  },
  {
   "cell_type": "code",
   "execution_count": 10,
   "metadata": {},
   "outputs": [
    {
     "data": {
      "image/png": "[encoded data removed]",
      "text/plain": [
       "<Figure size 1400x450 with 1 Axes>"
      ]
     },
     "metadata": {},
     "output_type": "display_data"
    }
   ],
   "source": [
    "x = np.linspace(-10, 10, 100)\n",
    "plt.figure(figsize=figsize)\n",
    "plt.plot(x, 1 / (1 + np.exp(-x)))\n",
    "plt.tight_layout(); plt.grid(':')"
   ]
  },
  {
   "cell_type": "markdown",
   "metadata": {},
   "source": [
    "* Due to its use, this approach is known as _logistic regression_"
   ]
  },
  {
   "cell_type": "markdown",
   "metadata": {
    "slideshow": {
     "slide_type": "subslide"
    }
   },
   "source": [
    "## Logistic Regression\n",
    "\n",
    "**Why using the logistic function?**\n",
    "\n",
    "* We can view the model output as a probability distribution\n",
    "* Specifically, as _the probability of the class being \"1\"_\n",
    "\n",
    "**With this convention, the target can also be interpreted as a probability**"
   ]
  },
  {
   "cell_type": "code",
   "execution_count": 11,
   "metadata": {},
   "outputs": [
    {
     "data": {
      "text/plain": [
       "0    0\n",
       "1    0\n",
       "2    1\n",
       "3    1\n",
       "4    1\n",
       "Name: play, dtype: int8"
      ]
     },
     "execution_count": 11,
     "metadata": {},
     "output_type": "execute_result"
    }
   ],
   "source": [
    "data2['play'].head()"
   ]
  },
  {
   "cell_type": "markdown",
   "metadata": {},
   "source": [
    "We view:\n",
    "\n",
    "* $y_i = 0$ as \"the probability of the class being 1 is equal to 0\"\n",
    "* $y_i = 1$ as \"the probability of the class being 1 is equal to 1\""
   ]
  },
  {
   "cell_type": "markdown",
   "metadata": {
    "slideshow": {
     "slide_type": "subslide"
    }
   },
   "source": [
    "## Maximum Likelihood Estimation\n",
    "\n",
    "**This detail is important because it defines how we perform training**\n",
    "\n",
    "The process relies on a _change of perspective_\n",
    "\n",
    "* We pretend that our model is a _data generator_\n",
    "* ...And compute a formula for the _chance of generating the training set_\n",
    "\n",
    "This formula is called a _likelihood function_\n",
    "\n",
    "**From this perspective:**\n",
    "\n",
    "* Training means to change the model parameters $w$\n",
    "* ...So that generating the training set is _as likely as possible_\n",
    "\n",
    "**This approach is known as Maximum Likelihood Estimation**\n",
    "\n",
    "* We will see how it can be applied to Logistic Regression\n",
    "* It's going to be hard: if you get lost, try to understand at least the main idea"
   ]
  },
  {
   "cell_type": "markdown",
   "metadata": {
    "slideshow": {
     "slide_type": "subslide"
    }
   },
   "source": [
    "## Maximum Likelihood Estimation\n",
    "\n",
    "**If we assume that $f(x; w)$ is the source of our data**\n",
    "\n",
    "...Then, when we have (e.g.) $f(x; w) = 0.7$:\n",
    "\n",
    "* We will generate a 1 with 70% chance\n",
    "* We will generate a 0 with 30% chance\n",
    "\n",
    "**Now we can measure the chance that the model makes the right guess:**\n",
    "\n",
    "* If the label is 1, i.e. $y_i = 1$\n",
    "  - We will generate that with a $f(x; w)$ probability\n",
    "* If the label is 0, i.e. $y_i = 0$\n",
    "  - We will generate that with a $1-f(x; w)$ probability"
   ]
  },
  {
   "cell_type": "markdown",
   "metadata": {
    "slideshow": {
     "slide_type": "subslide"
    }
   },
   "source": [
    "## Likelihood Function\n",
    "\n",
    "**If we repeat for all examples (assuming statistical independence)...**\n",
    "\n",
    "We get the _the probability of correctly generating example in each class_.\n",
    "\n",
    "* For all the examples where the class is 1, we get:\n",
    "$$\n",
    "\\prod_{y_i=1} f(x_i; w)\n",
    "$$\n",
    "* For all the examples where the class is 0, we get:\n",
    "$$\n",
    "\\prod_{y_i=0} (1-f(x_i; w))\n",
    "$$\n",
    "\n",
    "**Intuitively:**\n",
    "\n",
    "* When we have $y_i = 1$, we want $f(x; w)$ to be _high_\n",
    "* When we have $y_i = 0$, we want $f(x; w)$ to be _low_"
   ]
  },
  {
   "cell_type": "markdown",
   "metadata": {
    "slideshow": {
     "slide_type": "subslide"
    }
   },
   "source": [
    "## Likelihood Function\n",
    "\n",
    "**With another product we get the chance of generating all the training data**\n",
    "\n",
    "$$\n",
    "L(w) = \\prod_{y_i=1} f(x_i; w) \\prod_{y_i=0} (1-f(x_i; w))\n",
    "$$\n",
    "\n",
    "* The is sort of a probability, but is _associated to our model_, not to the data itself\n",
    "* ...And it also _depends on the parameters $w$_\n",
    "\n",
    "This is an example of a _likelihood function_\n",
    "\n",
    "**We want to train a model that is a _likely source for our data_**\n",
    "\n",
    "This means that we can choose the weights by solving:\n",
    "$$\n",
    "\\text{argmax}_w \\log L(w)\n",
    "$$\n",
    "* I.e. to _maximize the likelihood_ of the data\n",
    "* This often done via Gradient Descent"
   ]
  },
  {
   "cell_type": "markdown",
   "metadata": {
    "slideshow": {
     "slide_type": "subslide"
    }
   },
   "source": [
    "## Maximum Likelihood Estimation\n",
    "\n",
    "> **MLE is very important in many Machine Learning approaches**\n",
    "\n",
    "* It provides a _mathematical foundation_ for the training process\n",
    "* It applies to linear regression, too!\n",
    "* ...Since the MSE can be interpreted in terms of likelihood\n",
    "\n",
    "**In practice, scikit-learn does all the heavy lifting for us**\n",
    "\n",
    "...But understanding the main idea is still very useful\n",
    "\n",
    "* If you feel confused, that's because likelihood is not an easy concept\n",
    "* ...But it was worth to at least mention in"
   ]
  },
  {
   "cell_type": "markdown",
   "metadata": {
    "slideshow": {
     "slide_type": "subslide"
    }
   },
   "source": [
    "## Using Logistic Regression\n",
    "\n",
    "**Using Logistic Regression in scikit-learn is actually easy**\n",
    "\n",
    "We begin by splitting input/output data as usual:"
   ]
  },
  {
   "cell_type": "code",
   "execution_count": 12,
   "metadata": {},
   "outputs": [
    {
     "data": {
      "text/plain": [
       "0    0\n",
       "1    0\n",
       "2    1\n",
       "3    1\n",
       "4    1\n",
       "Name: play, dtype: int8"
      ]
     },
     "execution_count": 12,
     "metadata": {},
     "output_type": "execute_result"
    }
   ],
   "source": [
    "cols_in = [c for c in data2.columns if c != 'play']\n",
    "\n",
    "X = data2[cols_in]\n",
    "y = data2['play']\n",
    "y.head() # We have a table here, but a vector would also work"
   ]
  },
  {
   "cell_type": "markdown",
   "metadata": {},
   "source": [
    "Then the training and test set: "
   ]
  },
  {
   "cell_type": "code",
   "execution_count": 13,
   "metadata": {},
   "outputs": [],
   "source": [
    "from sklearn.model_selection import train_test_split\n",
    "X_tr, X_ts, y_tr, y_ts = train_test_split(X, y, test_size=0.34, random_state=0)"
   ]
  },
  {
   "cell_type": "markdown",
   "metadata": {
    "slideshow": {
     "slide_type": "subslide"
    }
   },
   "source": [
    "## Using Logistic Regression\n",
    "\n",
    "**Then, we build a `LogisticRegression` model**"
   ]
  },
  {
   "cell_type": "code",
   "execution_count": 14,
   "metadata": {},
   "outputs": [],
   "source": [
    "from sklearn.linear_model import LogisticRegression\n",
    "\n",
    "m = LogisticRegression()"
   ]
  },
  {
   "cell_type": "markdown",
   "metadata": {},
   "source": [
    "...And we call the `fit` method as usual:"
   ]
  },
  {
   "cell_type": "code",
   "execution_count": 15,
   "metadata": {},
   "outputs": [],
   "source": [
    "m.fit(X_tr, y_tr);"
   ]
  },
  {
   "cell_type": "markdown",
   "metadata": {},
   "source": [
    "Finally, we can obtain out predictions:"
   ]
  },
  {
   "cell_type": "code",
   "execution_count": 16,
   "metadata": {},
   "outputs": [],
   "source": [
    "y_pred_tr = m.predict(X_tr)\n",
    "y_pred_ts = m.predict(X_ts)"
   ]
  },
  {
   "cell_type": "markdown",
   "metadata": {
    "slideshow": {
     "slide_type": "subslide"
    }
   },
   "source": [
    "## A Better Look at the Predictions\n",
    "\n",
    "**By default, the prediction is the class with the largest probability**"
   ]
  },
  {
   "cell_type": "code",
   "execution_count": 17,
   "metadata": {},
   "outputs": [
    {
     "data": {
      "text/plain": [
       "array([0, 1, 0, 0, 1, 0, 0, 1, 1], dtype=int8)"
      ]
     },
     "execution_count": 17,
     "metadata": {},
     "output_type": "execute_result"
    }
   ],
   "source": [
    "y_pred_tr"
   ]
  },
  {
   "cell_type": "markdown",
   "metadata": {},
   "source": [
    "* If we are interested in the raw probability values...\n",
    "* ...We can call the `predict_proba` method:"
   ]
  },
  {
   "cell_type": "code",
   "execution_count": 18,
   "metadata": {},
   "outputs": [
    {
     "data": {
      "text/plain": [
       "array([[0.72678801, 0.27321199],\n",
       "       [0.3675285 , 0.6324715 ],\n",
       "       [0.77878844, 0.22121156],\n",
       "       [0.77593317, 0.22406683],\n",
       "       [0.48442041, 0.51557959]])"
      ]
     },
     "execution_count": 18,
     "metadata": {},
     "output_type": "execute_result"
    }
   ],
   "source": [
    "y_prob_tr = m.predict_proba(X_tr)\n",
    "y_prob_tr[:5]"
   ]
  },
  {
   "cell_type": "markdown",
   "metadata": {},
   "source": [
    "* Scikit-learn gives us the predicted probability of both classes\n",
    "* Hence, we get two separate columns"
   ]
  },
  {
   "cell_type": "markdown",
   "metadata": {
    "slideshow": {
     "slide_type": "subslide"
    }
   },
   "source": [
    "## Evaluation\n",
    "\n",
    "**We can evaluate the results using metrics**\n",
    "\n",
    "There are four basic metrics for binary classification:\n",
    "\n",
    "* Number of _True Positives_, i.e. $\\mathit{TP} = \\sum_{y_i=1} \\tilde{f}(x_i; w)$\n",
    "* Number of _True Negatives_, i.e. $\\mathit{TN} = \\sum_{y_i=0} (1 - \\tilde{f}(x_i; w))$\n",
    "* Number of _False Positives_, i.e. $\\mathit{FP} = \\sum_{y_i=0} \\tilde{f}(x_i; w)$\n",
    "* Number of _False Negatives_, i.e. $\\mathit{FN} = \\sum_{y_i=1} (1 - \\tilde{f}(x_i; w))$\n",
    "\n",
    "In all cases $\\tilde{f}(x_i; w)$ is the most probable class for the example $x_i$\n",
    "\n"
   ]
  },
  {
   "cell_type": "markdown",
   "metadata": {
    "slideshow": {
     "slide_type": "subslide"
    }
   },
   "source": [
    "## Evaluation\n",
    "\n",
    "**From these we can derive a few more complex metrics**\n",
    "\n",
    "The model (binary) _accuracy_ is defined as:\n",
    "$$\n",
    "\\mathit{ACC} = \\frac{TP + TN}{m}\n",
    "$$\n",
    "* I.e. the fraction of examples that is _correctly classified_\n",
    "* The accuracy ranges over the interval $[0, 1]$"
   ]
  },
  {
   "cell_type": "code",
   "execution_count": 19,
   "metadata": {},
   "outputs": [
    {
     "name": "stdout",
     "output_type": "stream",
     "text": [
      "Accuracy on the training set: 0.778\n",
      "Accuracy on the test set: 0.8\n"
     ]
    }
   ],
   "source": [
    "from sklearn.metrics import accuracy_score\n",
    "\n",
    "print(f'Accuracy on the training set: {accuracy_score(y_tr, y_pred_tr):.3}')\n",
    "print(f'Accuracy on the test set: {accuracy_score(y_ts, y_pred_ts):.3}')"
   ]
  },
  {
   "cell_type": "markdown",
   "metadata": {
    "slideshow": {
     "slide_type": "subslide"
    }
   },
   "source": [
    "## Evaluation\n",
    "\n",
    "**...Or we can plot all basic metrics via a _confusion matrix_**\n",
    "\n",
    "Here's the one for the training set:"
   ]
  },
  {
   "cell_type": "code",
   "execution_count": 20,
   "metadata": {},
   "outputs": [
    {
     "data": {
      "image/png": "[encoded data removed]",
      "text/plain": [
       "<Figure size 640x480 with 2 Axes>"
      ]
     },
     "metadata": {},
     "output_type": "display_data"
    }
   ],
   "source": [
    "from sklearn.metrics import ConfusionMatrixDisplay\n",
    "ConfusionMatrixDisplay.from_estimator(m, X_tr, y_tr, display_labels=play.cat.categories);"
   ]
  },
  {
   "cell_type": "markdown",
   "metadata": {
    "slideshow": {
     "slide_type": "subslide"
    }
   },
   "source": [
    "## Evaluation\n",
    "\n",
    "**...Or we can plot all basic metrics via a _confusion matrix_**\n",
    "\n",
    "...And the one for the test set"
   ]
  },
  {
   "cell_type": "code",
   "execution_count": 21,
   "metadata": {},
   "outputs": [
    {
     "data": {
      "image/png": "[encoded data removed]",
      "text/plain": [
       "<Figure size 640x480 with 2 Axes>"
      ]
     },
     "metadata": {},
     "output_type": "display_data"
    }
   ],
   "source": [
    "from sklearn.metrics import ConfusionMatrixDisplay\n",
    "ConfusionMatrixDisplay.from_estimator(m, X_ts, y_ts, display_labels=play.cat.categories);"
   ]
  },
  {
   "cell_type": "markdown",
   "metadata": {
    "slideshow": {
     "slide_type": "subslide"
    }
   },
   "source": [
    "## Conclusions and Take-Home Messages\n",
    "\n",
    "* Handling categorical attributes\n",
    "  - _Binary_ attributes can be handled via 0-1 encoding\n",
    "  - _Ordinal_ attributes via an integer encoding\n",
    "  - _Categorical_ attributes via a one-hot encoding\n",
    "* Logistic regression\n",
    "  - It's a linear model for _classification_ tasks\n",
    "  - The output can be interpreted as a _probability_\n",
    "* Training for maximum likelihood\n",
    "  - The _most common_ training method in the ML literature\n",
    "  - Goal: _maximize the estimated probability_ of the training data\n",
    "* Evaluation of classification models\n",
    "  - Use _metrics_ for a compact evaluation\n",
    "  - ...And a _confusion matrix_ to inspect the details"
   ]
  }
 ],
 "metadata": {
  "celltoolbar": "Slideshow",
  "kernelspec": {
   "display_name": "Python 3 (ipykernel)",
   "language": "python",
   "name": "python3"
  },
  "language_info": {
   "codemirror_mode": {
    "name": "ipython",
    "version": 3
   },
   "file_extension": ".py",
   "mimetype": "text/x-python",
   "name": "python",
   "nbconvert_exporter": "python",
   "pygments_lexer": "ipython3",
   "version": "3.8.15"
  },
  "rise": {
   "center": false,
   "transition": "fade"
  },
  "widgets": {
   "application/vnd.jupyter.widget-state+json": {
    "state": {},
    "version_major": 2,
    "version_minor": 0
   }
  }
 },
 "nbformat": 4,
 "nbformat_minor": 4
}
